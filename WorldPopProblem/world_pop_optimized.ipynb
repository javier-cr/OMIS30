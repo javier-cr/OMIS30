{
 "cells": [
  {
   "cell_type": "code",
   "execution_count": 1,
   "metadata": {},
   "outputs": [],
   "source": [
    "# Name: Javier Ramirez\n",
    "# Date: 11/28/18\n",
    "# Purpose: Find a better solution to the world_pop problem"
   ]
  },
  {
   "cell_type": "code",
   "execution_count": 2,
   "metadata": {},
   "outputs": [],
   "source": [
    "import pandas as pd"
   ]
  },
  {
   "cell_type": "code",
   "execution_count": 3,
   "metadata": {},
   "outputs": [],
   "source": [
    "world_pop = pd.read_csv('world_pop.csv')"
   ]
  },
  {
   "cell_type": "code",
   "execution_count": 4,
   "metadata": {},
   "outputs": [],
   "source": [
    "world_pop_list = []\n",
    "for row in world_pop.values:\n",
    "    world_pop_list.append(list(row))"
   ]
  },
  {
   "cell_type": "code",
   "execution_count": 5,
   "metadata": {},
   "outputs": [
    {
     "name": "stdout",
     "output_type": "stream",
     "text": [
      "There are 233 countries.\n",
      "It took this method 238 operations to get to our answer.\n",
      "It took 0.0005152225494384766 seconds to run.\n"
     ]
    },
    {
     "data": {
      "text/plain": [
       "[['China[a]', 'Asia', 1409517397],\n",
       " ['Russia', 'Europe', 143989754],\n",
       " ['United States', 'Americas', 324459463],\n",
       " ['Australia[g]', 'Oceania', 24450561],\n",
       " ['Nigeria', 'Africa', 190886311]]"
      ]
     },
     "execution_count": 5,
     "metadata": {},
     "output_type": "execute_result"
    }
   ],
   "source": [
    "import time\n",
    "\n",
    "top_countries = []\n",
    "continents = set(x[1] for x in world_pop_list)\n",
    "operation_count = 0\n",
    "start_time = time.time()\n",
    "\n",
    "# Create a list for each continent\n",
    "Asia = []\n",
    "Africa = []\n",
    "Americas = []\n",
    "Europe = []\n",
    "Oceania = []\n",
    "\n",
    "# Sort countries into their respective country lists\n",
    "for row in world_pop_list:\n",
    "    if row[1] == 'Asia':\n",
    "        Asia.append(row)\n",
    "        operation_count += 1\n",
    "    elif row[1] == 'Africa':\n",
    "        Africa.append(row)\n",
    "        operation_count += 1\n",
    "    elif row[1] == 'Americas':\n",
    "        Americas.append(row)\n",
    "        operation_count += 1\n",
    "    elif row[1] == 'Europe':\n",
    "        Europe.append(row)\n",
    "        operation_count += 1\n",
    "    elif row[1] == 'Oceania':\n",
    "        Oceania.append(row)\n",
    "        operation_count += 1\n",
    "\n",
    "# Find max of each continent\n",
    "top_countries = []\n",
    "top_countries.append(max(Asia, key=lambda e: int(e[2])))\n",
    "operation_count += 1\n",
    "top_countries.append(max(Europe, key=lambda e: int(e[2])))\n",
    "operation_count += 1\n",
    "top_countries.append(max(Americas, key=lambda e: int(e[2])))\n",
    "operation_count += 1\n",
    "top_countries.append(max(Oceania, key=lambda e: int(e[2])))\n",
    "operation_count += 1\n",
    "top_countries.append(max(Africa, key=lambda e: int(e[2])))\n",
    "operation_count += 1\n",
    "\n",
    "# Print results\n",
    "end_time = time.time()\n",
    "time_it_took = end_time - start_time\n",
    "print('There are ' + str(len(world_pop_list)) + ' countries.')\n",
    "print('It took this method ' + str(operation_count) + ' operations to get to our answer.')\n",
    "print('It took ' + str(time_it_took) + ' seconds to run.')\n",
    "top_countries"
   ]
  },
  {
   "cell_type": "code",
   "execution_count": null,
   "metadata": {},
   "outputs": [],
   "source": []
  },
  {
   "cell_type": "code",
   "execution_count": null,
   "metadata": {},
   "outputs": [],
   "source": []
  },
  {
   "cell_type": "code",
   "execution_count": null,
   "metadata": {},
   "outputs": [],
   "source": []
  }
 ],
 "metadata": {
  "kernelspec": {
   "display_name": "Python 3",
   "language": "python",
   "name": "python3"
  },
  "language_info": {
   "codemirror_mode": {
    "name": "ipython",
    "version": 3
   },
   "file_extension": ".py",
   "mimetype": "text/x-python",
   "name": "python",
   "nbconvert_exporter": "python",
   "pygments_lexer": "ipython3",
   "version": "3.7.0"
  }
 },
 "nbformat": 4,
 "nbformat_minor": 2
}
