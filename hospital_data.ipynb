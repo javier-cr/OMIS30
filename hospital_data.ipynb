{
 "cells": [
  {
   "cell_type": "code",
   "execution_count": 5,
   "metadata": {},
   "outputs": [],
   "source": [
    "# Name: Javier Ramirez\n",
    "# Date: 11/12/18\n",
    "# Purpose: Perform a data analysis on a data.gov dataset using Jupyter Notebooks.\n",
    "\n",
    "import pandas as pd\n",
    "from IPython.display import Markdown, display\n",
    "def printmd(string):\n",
    "    display(Markdown(string))\n",
    "\n",
    "raw_data = pd.read_csv('medicare.csv')\n",
    "# Clean data: only take in certain columns\n",
    "df = pd.DataFrame(raw_data, columns = ['DRG Definition', 'Provider State', \\\n",
    "                                       'Average Total Payments','Average Medicare Payments'])\n",
    "# Clean data: Remove procedure number from DRG Definition column\n",
    "df['DRG Definition'] = df['DRG Definition'].map(lambda x: str(x)[6:])"
   ]
  },
  {
   "cell_type": "code",
   "execution_count": 6,
   "metadata": {},
   "outputs": [
    {
     "data": {
      "text/markdown": [
       "# Looking for a good deal on your upcoming medical procedure?"
      ],
      "text/plain": [
       "<IPython.core.display.Markdown object>"
      ]
     },
     "metadata": {},
     "output_type": "display_data"
    },
    {
     "data": {
      "text/markdown": [
       "## *You might have to search out of state.*"
      ],
      "text/plain": [
       "<IPython.core.display.Markdown object>"
      ]
     },
     "metadata": {},
     "output_type": "display_data"
    },
    {
     "data": {
      "text/markdown": [
       "Even for common medical treatments, costs that patients pay can vary dramatically by state. Patients often receive bills for medical care they have received long after their hospital stay has ended, making it difficult to contest charges. It is often difficult to know how much a given treatment will cost in advance. Hospitals are often unable to provide patients a copy of their chargemaster, a master price list of all the treatments patients can receive."
      ],
      "text/plain": [
       "<IPython.core.display.Markdown object>"
      ]
     },
     "metadata": {},
     "output_type": "display_data"
    },
    {
     "data": {
      "text/markdown": [
       "Costs vary dramatically – patients can pay upwards of \\$10,000 in Arkansas or as little as under \\$6,000 in Alabama for the same treatment."
      ],
      "text/plain": [
       "<IPython.core.display.Markdown object>"
      ]
     },
     "metadata": {},
     "output_type": "display_data"
    },
    {
     "data": {
      "text/markdown": [
       "**TABLE: Simple Pneumonia & Pleuritis Treatment Costs, by state**"
      ],
      "text/plain": [
       "<IPython.core.display.Markdown object>"
      ]
     },
     "metadata": {},
     "output_type": "display_data"
    },
    {
     "data": {
      "text/markdown": [
       "*The table below lists the average amount paid for simple pneumonia and pleuritis (tissue inflamation) treatments in 2011.\n",
       " Source: Centers for Medicare and Medicaid Services.*"
      ],
      "text/plain": [
       "<IPython.core.display.Markdown object>"
      ]
     },
     "metadata": {},
     "output_type": "display_data"
    },
    {
     "data": {
      "text/html": [
       "<div>\n",
       "<style scoped>\n",
       "    .dataframe tbody tr th:only-of-type {\n",
       "        vertical-align: middle;\n",
       "    }\n",
       "\n",
       "    .dataframe tbody tr th {\n",
       "        vertical-align: top;\n",
       "    }\n",
       "\n",
       "    .dataframe thead th {\n",
       "        text-align: right;\n",
       "    }\n",
       "</style>\n",
       "<table border=\"1\" class=\"dataframe\">\n",
       "  <thead>\n",
       "    <tr style=\"text-align: right;\">\n",
       "      <th></th>\n",
       "      <th>Provider State</th>\n",
       "      <th>Average Total Payments</th>\n",
       "    </tr>\n",
       "  </thead>\n",
       "  <tbody>\n",
       "    <tr>\n",
       "      <th>0</th>\n",
       "      <td>AK</td>\n",
       "      <td>NaN</td>\n",
       "    </tr>\n",
       "    <tr>\n",
       "      <th>1</th>\n",
       "      <td>AL</td>\n",
       "      <td>NaN</td>\n",
       "    </tr>\n",
       "    <tr>\n",
       "      <th>2</th>\n",
       "      <td>AR</td>\n",
       "      <td>NaN</td>\n",
       "    </tr>\n",
       "    <tr>\n",
       "      <th>3</th>\n",
       "      <td>AZ</td>\n",
       "      <td>NaN</td>\n",
       "    </tr>\n",
       "    <tr>\n",
       "      <th>4</th>\n",
       "      <td>CA</td>\n",
       "      <td>NaN</td>\n",
       "    </tr>\n",
       "    <tr>\n",
       "      <th>5</th>\n",
       "      <td>CO</td>\n",
       "      <td>NaN</td>\n",
       "    </tr>\n",
       "    <tr>\n",
       "      <th>6</th>\n",
       "      <td>CT</td>\n",
       "      <td>NaN</td>\n",
       "    </tr>\n",
       "    <tr>\n",
       "      <th>7</th>\n",
       "      <td>DC</td>\n",
       "      <td>NaN</td>\n",
       "    </tr>\n",
       "    <tr>\n",
       "      <th>8</th>\n",
       "      <td>DE</td>\n",
       "      <td>NaN</td>\n",
       "    </tr>\n",
       "    <tr>\n",
       "      <th>9</th>\n",
       "      <td>FL</td>\n",
       "      <td>NaN</td>\n",
       "    </tr>\n",
       "    <tr>\n",
       "      <th>10</th>\n",
       "      <td>GA</td>\n",
       "      <td>NaN</td>\n",
       "    </tr>\n",
       "    <tr>\n",
       "      <th>11</th>\n",
       "      <td>HI</td>\n",
       "      <td>NaN</td>\n",
       "    </tr>\n",
       "    <tr>\n",
       "      <th>12</th>\n",
       "      <td>IA</td>\n",
       "      <td>NaN</td>\n",
       "    </tr>\n",
       "    <tr>\n",
       "      <th>13</th>\n",
       "      <td>ID</td>\n",
       "      <td>NaN</td>\n",
       "    </tr>\n",
       "    <tr>\n",
       "      <th>14</th>\n",
       "      <td>IL</td>\n",
       "      <td>NaN</td>\n",
       "    </tr>\n",
       "    <tr>\n",
       "      <th>15</th>\n",
       "      <td>IN</td>\n",
       "      <td>NaN</td>\n",
       "    </tr>\n",
       "    <tr>\n",
       "      <th>16</th>\n",
       "      <td>KS</td>\n",
       "      <td>NaN</td>\n",
       "    </tr>\n",
       "    <tr>\n",
       "      <th>17</th>\n",
       "      <td>KY</td>\n",
       "      <td>NaN</td>\n",
       "    </tr>\n",
       "    <tr>\n",
       "      <th>18</th>\n",
       "      <td>LA</td>\n",
       "      <td>NaN</td>\n",
       "    </tr>\n",
       "    <tr>\n",
       "      <th>19</th>\n",
       "      <td>MA</td>\n",
       "      <td>NaN</td>\n",
       "    </tr>\n",
       "    <tr>\n",
       "      <th>20</th>\n",
       "      <td>MD</td>\n",
       "      <td>NaN</td>\n",
       "    </tr>\n",
       "    <tr>\n",
       "      <th>21</th>\n",
       "      <td>ME</td>\n",
       "      <td>NaN</td>\n",
       "    </tr>\n",
       "    <tr>\n",
       "      <th>22</th>\n",
       "      <td>MI</td>\n",
       "      <td>NaN</td>\n",
       "    </tr>\n",
       "    <tr>\n",
       "      <th>23</th>\n",
       "      <td>MN</td>\n",
       "      <td>NaN</td>\n",
       "    </tr>\n",
       "    <tr>\n",
       "      <th>24</th>\n",
       "      <td>MO</td>\n",
       "      <td>NaN</td>\n",
       "    </tr>\n",
       "    <tr>\n",
       "      <th>25</th>\n",
       "      <td>MS</td>\n",
       "      <td>NaN</td>\n",
       "    </tr>\n",
       "    <tr>\n",
       "      <th>26</th>\n",
       "      <td>MT</td>\n",
       "      <td>NaN</td>\n",
       "    </tr>\n",
       "    <tr>\n",
       "      <th>27</th>\n",
       "      <td>NC</td>\n",
       "      <td>NaN</td>\n",
       "    </tr>\n",
       "    <tr>\n",
       "      <th>28</th>\n",
       "      <td>ND</td>\n",
       "      <td>NaN</td>\n",
       "    </tr>\n",
       "    <tr>\n",
       "      <th>29</th>\n",
       "      <td>NE</td>\n",
       "      <td>NaN</td>\n",
       "    </tr>\n",
       "    <tr>\n",
       "      <th>30</th>\n",
       "      <td>NH</td>\n",
       "      <td>NaN</td>\n",
       "    </tr>\n",
       "    <tr>\n",
       "      <th>31</th>\n",
       "      <td>NJ</td>\n",
       "      <td>NaN</td>\n",
       "    </tr>\n",
       "    <tr>\n",
       "      <th>32</th>\n",
       "      <td>NM</td>\n",
       "      <td>NaN</td>\n",
       "    </tr>\n",
       "    <tr>\n",
       "      <th>33</th>\n",
       "      <td>NV</td>\n",
       "      <td>NaN</td>\n",
       "    </tr>\n",
       "    <tr>\n",
       "      <th>34</th>\n",
       "      <td>NY</td>\n",
       "      <td>NaN</td>\n",
       "    </tr>\n",
       "    <tr>\n",
       "      <th>35</th>\n",
       "      <td>OH</td>\n",
       "      <td>NaN</td>\n",
       "    </tr>\n",
       "    <tr>\n",
       "      <th>36</th>\n",
       "      <td>OK</td>\n",
       "      <td>NaN</td>\n",
       "    </tr>\n",
       "    <tr>\n",
       "      <th>37</th>\n",
       "      <td>OR</td>\n",
       "      <td>NaN</td>\n",
       "    </tr>\n",
       "    <tr>\n",
       "      <th>38</th>\n",
       "      <td>PA</td>\n",
       "      <td>NaN</td>\n",
       "    </tr>\n",
       "    <tr>\n",
       "      <th>39</th>\n",
       "      <td>RI</td>\n",
       "      <td>NaN</td>\n",
       "    </tr>\n",
       "    <tr>\n",
       "      <th>40</th>\n",
       "      <td>SC</td>\n",
       "      <td>NaN</td>\n",
       "    </tr>\n",
       "    <tr>\n",
       "      <th>41</th>\n",
       "      <td>SD</td>\n",
       "      <td>NaN</td>\n",
       "    </tr>\n",
       "    <tr>\n",
       "      <th>42</th>\n",
       "      <td>TN</td>\n",
       "      <td>NaN</td>\n",
       "    </tr>\n",
       "    <tr>\n",
       "      <th>43</th>\n",
       "      <td>TX</td>\n",
       "      <td>NaN</td>\n",
       "    </tr>\n",
       "    <tr>\n",
       "      <th>44</th>\n",
       "      <td>UT</td>\n",
       "      <td>NaN</td>\n",
       "    </tr>\n",
       "    <tr>\n",
       "      <th>45</th>\n",
       "      <td>VA</td>\n",
       "      <td>NaN</td>\n",
       "    </tr>\n",
       "    <tr>\n",
       "      <th>46</th>\n",
       "      <td>VT</td>\n",
       "      <td>NaN</td>\n",
       "    </tr>\n",
       "    <tr>\n",
       "      <th>47</th>\n",
       "      <td>WA</td>\n",
       "      <td>NaN</td>\n",
       "    </tr>\n",
       "    <tr>\n",
       "      <th>48</th>\n",
       "      <td>WI</td>\n",
       "      <td>NaN</td>\n",
       "    </tr>\n",
       "    <tr>\n",
       "      <th>49</th>\n",
       "      <td>WV</td>\n",
       "      <td>NaN</td>\n",
       "    </tr>\n",
       "    <tr>\n",
       "      <th>50</th>\n",
       "      <td>WY</td>\n",
       "      <td>NaN</td>\n",
       "    </tr>\n",
       "  </tbody>\n",
       "</table>\n",
       "</div>"
      ],
      "text/plain": [
       "   Provider State  Average Total Payments\n",
       "0              AK                     NaN\n",
       "1              AL                     NaN\n",
       "2              AR                     NaN\n",
       "3              AZ                     NaN\n",
       "4              CA                     NaN\n",
       "5              CO                     NaN\n",
       "6              CT                     NaN\n",
       "7              DC                     NaN\n",
       "8              DE                     NaN\n",
       "9              FL                     NaN\n",
       "10             GA                     NaN\n",
       "11             HI                     NaN\n",
       "12             IA                     NaN\n",
       "13             ID                     NaN\n",
       "14             IL                     NaN\n",
       "15             IN                     NaN\n",
       "16             KS                     NaN\n",
       "17             KY                     NaN\n",
       "18             LA                     NaN\n",
       "19             MA                     NaN\n",
       "20             MD                     NaN\n",
       "21             ME                     NaN\n",
       "22             MI                     NaN\n",
       "23             MN                     NaN\n",
       "24             MO                     NaN\n",
       "25             MS                     NaN\n",
       "26             MT                     NaN\n",
       "27             NC                     NaN\n",
       "28             ND                     NaN\n",
       "29             NE                     NaN\n",
       "30             NH                     NaN\n",
       "31             NJ                     NaN\n",
       "32             NM                     NaN\n",
       "33             NV                     NaN\n",
       "34             NY                     NaN\n",
       "35             OH                     NaN\n",
       "36             OK                     NaN\n",
       "37             OR                     NaN\n",
       "38             PA                     NaN\n",
       "39             RI                     NaN\n",
       "40             SC                     NaN\n",
       "41             SD                     NaN\n",
       "42             TN                     NaN\n",
       "43             TX                     NaN\n",
       "44             UT                     NaN\n",
       "45             VA                     NaN\n",
       "46             VT                     NaN\n",
       "47             WA                     NaN\n",
       "48             WI                     NaN\n",
       "49             WV                     NaN\n",
       "50             WY                     NaN"
      ]
     },
     "execution_count": 6,
     "metadata": {},
     "output_type": "execute_result"
    }
   ],
   "source": [
    "# INTERESTING 1\n",
    "# create a new df with only CHEST PAIN items in it\n",
    "category_only = df[(df['DRG Definition'] == 'SIMPLE PNEUMONIA & PLEURISY W CC')]\n",
    "\n",
    "# group costs by state and average each state's cost\n",
    "new_df = category_only.groupby('Provider State', as_index=False)\\\n",
    "['Average Total Payments'].mean()\n",
    "\n",
    "# sort the df from highest to lowest value\n",
    "sorted_df = new_df.sort_values(['Average Total Payments'], ascending=[False])\n",
    "\n",
    "# print with new indexes, rounded to 2 decimal places\n",
    "sorted_df.reset_index(drop=True, inplace=True)\n",
    "sorted_df.columns=['Provider State','Average Total Payments']\n",
    "decimals = 2    \n",
    "sorted_df['Average Total Payments'] = sorted_df['Average Total Payments']\\\n",
    ".apply(lambda x: round(x, decimals))\n",
    "\n",
    "# start formatted story text\n",
    "printmd('# Looking for a good deal on your upcoming medical procedure?')\n",
    "printmd('## *You might have to search out of state.*')\n",
    "\n",
    "printmd('Even for common medical treatments, costs that patients pay can vary dramatically \\\n",
    "by state. Patients often receive bills for medical care they have received long after their \\\n",
    "hospital stay has ended, making it difficult to contest charges. It is often difficult to \\\n",
    "know how much a given treatment will cost in advance. Hospitals are often unable to provide \\\n",
    "patients a copy of their chargemaster, a master price list of all the treatments patients \\\n",
    "can receive.')\n",
    "\n",
    "printmd('Costs vary dramatically – patients can pay upwards of \\$10,000 in Arkansas or as \\\n",
    "little as under \\$6,000 in Alabama for the same treatment.')\n",
    "\n",
    "printmd('**TABLE: Simple Pneumonia & Pleuritis Treatment Costs, by state**')\n",
    "printmd('*The table below lists the average amount paid for simple pneumonia and pleuritis \\\n",
    "(tissue inflamation) treatments in 2011.\\n Source: Centers for Medicare and Medicaid \\\n",
    "Services.*')\n",
    "\n",
    "# print table\n",
    "sorted_df "
   ]
  },
  {
   "cell_type": "code",
   "execution_count": 7,
   "metadata": {
    "scrolled": false
   },
   "outputs": [
    {
     "data": {
      "text/markdown": [
       "# Costs Vary Dramatically Across the Top 100 Most Diagnosed Conditions."
      ],
      "text/plain": [
       "<IPython.core.display.Markdown object>"
      ]
     },
     "metadata": {},
     "output_type": "display_data"
    },
    {
     "data": {
      "text/markdown": [
       "## *National Trends Point Toward Cost Variance*"
      ],
      "text/plain": [
       "<IPython.core.display.Markdown object>"
      ]
     },
     "metadata": {},
     "output_type": "display_data"
    },
    {
     "data": {
      "text/markdown": [
       "When we combine and average the costs that patients pay for treatment of the top 100 most diagnosed conditions, we can see that much variation exsts in the amount that patients pay, on average, between states."
      ],
      "text/plain": [
       "<IPython.core.display.Markdown object>"
      ]
     },
     "metadata": {},
     "output_type": "display_data"
    },
    {
     "data": {
      "text/markdown": [
       "**TABLE: Average Cost of Procedure, by state.**"
      ],
      "text/plain": [
       "<IPython.core.display.Markdown object>"
      ]
     },
     "metadata": {},
     "output_type": "display_data"
    },
    {
     "data": {
      "text/markdown": [
       "*The table below shows the average cost of a procedure in each state, based on data from the top 100 diagnosed procedures nationwide. \n",
       " Source: Centers for Medicare and Medicaid Services.*"
      ],
      "text/plain": [
       "<IPython.core.display.Markdown object>"
      ]
     },
     "metadata": {},
     "output_type": "display_data"
    },
    {
     "data": {
      "image/png": "[encoded data removed]",
      "text/plain": [
       "<Figure size 1080x720 with 1 Axes>"
      ]
     },
     "metadata": {
      "needs_background": "light"
     },
     "output_type": "display_data"
    }
   ],
   "source": [
    "# INTERESTING 2\n",
    "\n",
    "# start formatted story text\n",
    "printmd('# Costs Vary Dramatically Across the Top 100 Most Diagnosed Conditions.')\n",
    "printmd('## *National Trends Point Toward Cost Variance*')\n",
    "\n",
    "printmd('When we combine and average the costs that patients pay for treatment of \\\n",
    "the top 100 most diagnosed conditions, we can see that much variation exsts in the \\\n",
    "amount that patients pay, on average, between states.')\n",
    "\n",
    "printmd('**TABLE: Average Cost of Procedure, by state.**')\n",
    "printmd('*The table below shows the average cost of a procedure in each state, based on \\\n",
    "data from the top 100 diagnosed procedures nationwide. \\n Source: Centers for Medicare \\\n",
    "and Medicaid Services.*')\n",
    "\n",
    "# BEGIN TABLE\n",
    "\n",
    "# create a new df to use for this example, based on raw data\n",
    "nationwide_data = df\n",
    "\n",
    "# group costs by state and average each state's cost\n",
    "nationwide_sorted = nationwide_data.groupby('Provider State', as_index=False)\\\n",
    "['Average Total Payments'].mean()\n",
    "\n",
    "# create and print graphs\n",
    "nationwide_sorted_df = nationwide_sorted.sort_values(['Average Total Payments'], ascending=[False])\n",
    "ax = nationwide_sorted_df[['Provider State','Average Total Payments']].plot(kind='bar', title =\"Cost of Procedure by State\", x='Provider State', y='Average Total Payments',figsize=(15, 10), legend=True, fontsize=12)"
   ]
  },
  {
   "cell_type": "code",
   "execution_count": 8,
   "metadata": {},
   "outputs": [
    {
     "data": {
      "text/markdown": [
       "# Medicare Disburses Similar Amounts to Nearly All States."
      ],
      "text/plain": [
       "<IPython.core.display.Markdown object>"
      ]
     },
     "metadata": {},
     "output_type": "display_data"
    },
    {
     "data": {
      "text/markdown": [
       "## *Insurance for All*"
      ],
      "text/plain": [
       "<IPython.core.display.Markdown object>"
      ]
     },
     "metadata": {},
     "output_type": "display_data"
    },
    {
     "data": {
      "text/markdown": [
       "When we combine and average the costs that patients pay for treatment of the top 100 most diagnosed conditions, we can see that much variation exsts in the amount that patients pay, on average, between states."
      ],
      "text/plain": [
       "<IPython.core.display.Markdown object>"
      ]
     },
     "metadata": {},
     "output_type": "display_data"
    },
    {
     "data": {
      "text/markdown": [
       "**TABLE: Proportion of Treatment Amounts Covered by Medicare.**"
      ],
      "text/plain": [
       "<IPython.core.display.Markdown object>"
      ]
     },
     "metadata": {},
     "output_type": "display_data"
    },
    {
     "data": {
      "text/markdown": [
       "*The table below shows the proportion of treatment costs covered by Medicare by state, based on data from the top 100 diagnosed procedures nationwide. The top 15 amounts are shown. \n",
       " Source: Centers for Medicare and Medicaid Services.*"
      ],
      "text/plain": [
       "<IPython.core.display.Markdown object>"
      ]
     },
     "metadata": {},
     "output_type": "display_data"
    },
    {
     "data": {
      "text/html": [
       "<div>\n",
       "<style scoped>\n",
       "    .dataframe tbody tr th:only-of-type {\n",
       "        vertical-align: middle;\n",
       "    }\n",
       "\n",
       "    .dataframe tbody tr th {\n",
       "        vertical-align: top;\n",
       "    }\n",
       "\n",
       "    .dataframe thead th {\n",
       "        text-align: right;\n",
       "    }\n",
       "</style>\n",
       "<table border=\"1\" class=\"dataframe\">\n",
       "  <thead>\n",
       "    <tr style=\"text-align: right;\">\n",
       "      <th></th>\n",
       "      <th>Provider State</th>\n",
       "      <th>Average Medicare Payments</th>\n",
       "    </tr>\n",
       "  </thead>\n",
       "  <tbody>\n",
       "    <tr>\n",
       "      <th>0</th>\n",
       "      <td>AK</td>\n",
       "      <td>12958.97</td>\n",
       "    </tr>\n",
       "    <tr>\n",
       "      <th>1</th>\n",
       "      <td>DC</td>\n",
       "      <td>11811.97</td>\n",
       "    </tr>\n",
       "    <tr>\n",
       "      <th>2</th>\n",
       "      <td>CA</td>\n",
       "      <td>11494.38</td>\n",
       "    </tr>\n",
       "    <tr>\n",
       "      <th>3</th>\n",
       "      <td>MD</td>\n",
       "      <td>11480.12</td>\n",
       "    </tr>\n",
       "    <tr>\n",
       "      <th>4</th>\n",
       "      <td>HI</td>\n",
       "      <td>10967.48</td>\n",
       "    </tr>\n",
       "    <tr>\n",
       "      <th>5</th>\n",
       "      <td>NY</td>\n",
       "      <td>10620.74</td>\n",
       "    </tr>\n",
       "    <tr>\n",
       "      <th>6</th>\n",
       "      <td>VT</td>\n",
       "      <td>10546.97</td>\n",
       "    </tr>\n",
       "    <tr>\n",
       "      <th>7</th>\n",
       "      <td>CT</td>\n",
       "      <td>10104.59</td>\n",
       "    </tr>\n",
       "    <tr>\n",
       "      <th>8</th>\n",
       "      <td>NJ</td>\n",
       "      <td>9586.94</td>\n",
       "    </tr>\n",
       "    <tr>\n",
       "      <th>9</th>\n",
       "      <td>WY</td>\n",
       "      <td>9539.39</td>\n",
       "    </tr>\n",
       "    <tr>\n",
       "      <th>10</th>\n",
       "      <td>RI</td>\n",
       "      <td>9317.94</td>\n",
       "    </tr>\n",
       "    <tr>\n",
       "      <th>11</th>\n",
       "      <td>MA</td>\n",
       "      <td>9241.72</td>\n",
       "    </tr>\n",
       "    <tr>\n",
       "      <th>12</th>\n",
       "      <td>WA</td>\n",
       "      <td>9076.51</td>\n",
       "    </tr>\n",
       "    <tr>\n",
       "      <th>13</th>\n",
       "      <td>OR</td>\n",
       "      <td>9035.26</td>\n",
       "    </tr>\n",
       "    <tr>\n",
       "      <th>14</th>\n",
       "      <td>DE</td>\n",
       "      <td>8959.67</td>\n",
       "    </tr>\n",
       "  </tbody>\n",
       "</table>\n",
       "</div>"
      ],
      "text/plain": [
       "   Provider State  Average Medicare Payments\n",
       "0              AK                   12958.97\n",
       "1              DC                   11811.97\n",
       "2              CA                   11494.38\n",
       "3              MD                   11480.12\n",
       "4              HI                   10967.48\n",
       "5              NY                   10620.74\n",
       "6              VT                   10546.97\n",
       "7              CT                   10104.59\n",
       "8              NJ                    9586.94\n",
       "9              WY                    9539.39\n",
       "10             RI                    9317.94\n",
       "11             MA                    9241.72\n",
       "12             WA                    9076.51\n",
       "13             OR                    9035.26\n",
       "14             DE                    8959.67"
      ]
     },
     "execution_count": 8,
     "metadata": {},
     "output_type": "execute_result"
    }
   ],
   "source": [
    "# INTERESTING 3\n",
    "\n",
    "# start formatted story text\n",
    "printmd('# Medicare Disburses Similar Amounts to Nearly All States.')\n",
    "printmd('## *Insurance for All*')\n",
    "\n",
    "printmd('When we combine and average the costs that patients pay for treatment of \\\n",
    "the top 100 most diagnosed conditions, we can see that much variation exsts in the \\\n",
    "amount that patients pay, on average, between states.')\n",
    "\n",
    "printmd('**TABLE: Proportion of Treatment Amounts Covered by Medicare.**')\n",
    "printmd('*The table below shows the proportion of treatment costs covered by Medicare by state, based on \\\n",
    "data from the top 100 diagnosed procedures nationwide. The top 15 amounts are shown. \\n Source: Centers for Medicare \\\n",
    "and Medicaid Services.*')\n",
    "\n",
    "# BEGIN TABLE\n",
    "\n",
    "# create a new df to use for this example, based on raw data\n",
    "nationwide_medicare_data = df\n",
    "\n",
    "# group costs by state and average each state's cost\n",
    "nationwide_medicare_sorted = nationwide_medicare_data.groupby('Provider State', as_index=False)\\\n",
    "['Average Medicare Payments'].mean()\n",
    "\n",
    "# sort from highest to lowest\n",
    "nationwide_medicare_sorted = nationwide_medicare_sorted.sort_values(['Average Medicare Payments'], ascending=[False])\n",
    "\n",
    "# print with new indexes, rounded to 2 decimal places, top 15\n",
    "nationwide_medicare_sorted.reset_index(drop=True, inplace=True)\n",
    "nationwide_medicare_sorted.columns=['Provider State','Average Medicare Payments']\n",
    "decimals = 2    \n",
    "nationwide_medicare_sorted['Average Medicare Payments'] = nationwide_medicare_sorted['Average Medicare Payments']\\\n",
    ".apply(lambda x: round(x, decimals))\n",
    "\n",
    "nationwide_medicare_sorted[:15]\n"
   ]
  },
  {
   "cell_type": "code",
   "execution_count": null,
   "metadata": {},
   "outputs": [],
   "source": []
  }
 ],
 "metadata": {
  "kernelspec": {
   "display_name": "Python 3",
   "language": "python",
   "name": "python3"
  },
  "language_info": {
   "codemirror_mode": {
    "name": "ipython",
    "version": 3
   },
   "file_extension": ".py",
   "mimetype": "text/x-python",
   "name": "python",
   "nbconvert_exporter": "python",
   "pygments_lexer": "ipython3",
   "version": "3.7.0"
  }
 },
 "nbformat": 4,
 "nbformat_minor": 2
}
